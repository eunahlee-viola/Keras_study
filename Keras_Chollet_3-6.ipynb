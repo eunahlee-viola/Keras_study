{
  "nbformat": 4,
  "nbformat_minor": 0,
  "metadata": {
    "colab": {
      "name": "Keras_Chollet_3-6.ipynb",
      "provenance": [],
      "collapsed_sections": [],
      "toc_visible": true
    },
    "kernelspec": {
      "name": "python3",
      "display_name": "Python 3"
    },
    "accelerator": "GPU"
  },
  "cells": [
    {
      "cell_type": "markdown",
      "metadata": {
        "id": "IPMuT3Yh5ASW"
      },
      "source": [
        "# 주택 가격 예측: 회귀문제   \r\n",
        "## 보스턴 주책 가격 데이터 셋\r\n",
        "#### 1970년 중반 보스턴 외과지역 주택가격의 중간 값 예측    \r\n",
        "- 지역 1인당 범죄율, 주택 당 평균 방 갯수, 고속도로 접근성, 지방세율 등의 13개의 feature 주어짐 \r\n",
        "- Data point가 506개 (404개 train data, 102개 test data)\r\n",
        "- 각 feature는 스케일이 서로 다름\r\n",
        "- 타겟은 주택의 중간 가격으로 천 달러 단위"
      ]
    },
    {
      "cell_type": "code",
      "metadata": {
        "id": "JDisO_Jo4lU7"
      },
      "source": [
        "%tensorflow_version 2.x"
      ],
      "execution_count": 2,
      "outputs": []
    },
    {
      "cell_type": "code",
      "metadata": {
        "id": "kdBkO-GI6z-Z"
      },
      "source": [
        "import numpy as np\r\n",
        "import matplotlib.pyplot as plt\r\n",
        "\r\n",
        "from tensorflow import keras\r\n",
        "from tensorflow.keras import optimizers\r\n",
        "from tensorflow.keras.layers import Dense\r\n",
        "from tensorflow.keras.layers import Input\r\n",
        "\r\n",
        "import time"
      ],
      "execution_count": 3,
      "outputs": []
    },
    {
      "cell_type": "code",
      "metadata": {
        "colab": {
          "base_uri": "https://localhost:8080/"
        },
        "id": "OD3N0Rz25vlt",
        "outputId": "4c855f82-1163-490d-9ed0-a05913d10338"
      },
      "source": [
        "from keras.datasets import boston_housing\r\n",
        "\r\n",
        "(train_data, train_targets), (test_data, test_targets) = boston_housing.load_data()"
      ],
      "execution_count": 4,
      "outputs": [
        {
          "output_type": "stream",
          "text": [
            "Downloading data from https://storage.googleapis.com/tensorflow/tf-keras-datasets/boston_housing.npz\n",
            "57344/57026 [==============================] - 0s 0us/step\n"
          ],
          "name": "stdout"
        }
      ]
    },
    {
      "cell_type": "code",
      "metadata": {
        "colab": {
          "base_uri": "https://localhost:8080/"
        },
        "id": "RZ3E8Qic6FS9",
        "outputId": "76acea7d-7751-4dc0-f069-e9e3fd4060a7"
      },
      "source": [
        "train_data.shape"
      ],
      "execution_count": 5,
      "outputs": [
        {
          "output_type": "execute_result",
          "data": {
            "text/plain": [
              "(404, 13)"
            ]
          },
          "metadata": {
            "tags": []
          },
          "execution_count": 5
        }
      ]
    },
    {
      "cell_type": "code",
      "metadata": {
        "colab": {
          "base_uri": "https://localhost:8080/"
        },
        "id": "EBoTyZj46MUE",
        "outputId": "0eda2b65-07e8-47af-e967-102bc765dde1"
      },
      "source": [
        "test_data.shape"
      ],
      "execution_count": 6,
      "outputs": [
        {
          "output_type": "execute_result",
          "data": {
            "text/plain": [
              "(102, 13)"
            ]
          },
          "metadata": {
            "tags": []
          },
          "execution_count": 6
        }
      ]
    },
    {
      "cell_type": "code",
      "metadata": {
        "colab": {
          "base_uri": "https://localhost:8080/"
        },
        "id": "rEn3DML06iy5",
        "outputId": "a5c90c73-9b85-43d2-ca74-c5e19c0dd8ff"
      },
      "source": [
        "train_targets # 타겟은 주택의 중간가격으로 천달러 단위 일반적으로 1만달러~5만달러 사이"
      ],
      "execution_count": 7,
      "outputs": [
        {
          "output_type": "execute_result",
          "data": {
            "text/plain": [
              "array([15.2, 42.3, 50. , 21.1, 17.7, 18.5, 11.3, 15.6, 15.6, 14.4, 12.1,\n",
              "       17.9, 23.1, 19.9, 15.7,  8.8, 50. , 22.5, 24.1, 27.5, 10.9, 30.8,\n",
              "       32.9, 24. , 18.5, 13.3, 22.9, 34.7, 16.6, 17.5, 22.3, 16.1, 14.9,\n",
              "       23.1, 34.9, 25. , 13.9, 13.1, 20.4, 20. , 15.2, 24.7, 22.2, 16.7,\n",
              "       12.7, 15.6, 18.4, 21. , 30.1, 15.1, 18.7,  9.6, 31.5, 24.8, 19.1,\n",
              "       22. , 14.5, 11. , 32. , 29.4, 20.3, 24.4, 14.6, 19.5, 14.1, 14.3,\n",
              "       15.6, 10.5,  6.3, 19.3, 19.3, 13.4, 36.4, 17.8, 13.5, 16.5,  8.3,\n",
              "       14.3, 16. , 13.4, 28.6, 43.5, 20.2, 22. , 23. , 20.7, 12.5, 48.5,\n",
              "       14.6, 13.4, 23.7, 50. , 21.7, 39.8, 38.7, 22.2, 34.9, 22.5, 31.1,\n",
              "       28.7, 46. , 41.7, 21. , 26.6, 15. , 24.4, 13.3, 21.2, 11.7, 21.7,\n",
              "       19.4, 50. , 22.8, 19.7, 24.7, 36.2, 14.2, 18.9, 18.3, 20.6, 24.6,\n",
              "       18.2,  8.7, 44. , 10.4, 13.2, 21.2, 37. , 30.7, 22.9, 20. , 19.3,\n",
              "       31.7, 32. , 23.1, 18.8, 10.9, 50. , 19.6,  5. , 14.4, 19.8, 13.8,\n",
              "       19.6, 23.9, 24.5, 25. , 19.9, 17.2, 24.6, 13.5, 26.6, 21.4, 11.9,\n",
              "       22.6, 19.6,  8.5, 23.7, 23.1, 22.4, 20.5, 23.6, 18.4, 35.2, 23.1,\n",
              "       27.9, 20.6, 23.7, 28. , 13.6, 27.1, 23.6, 20.6, 18.2, 21.7, 17.1,\n",
              "        8.4, 25.3, 13.8, 22.2, 18.4, 20.7, 31.6, 30.5, 20.3,  8.8, 19.2,\n",
              "       19.4, 23.1, 23. , 14.8, 48.8, 22.6, 33.4, 21.1, 13.6, 32.2, 13.1,\n",
              "       23.4, 18.9, 23.9, 11.8, 23.3, 22.8, 19.6, 16.7, 13.4, 22.2, 20.4,\n",
              "       21.8, 26.4, 14.9, 24.1, 23.8, 12.3, 29.1, 21. , 19.5, 23.3, 23.8,\n",
              "       17.8, 11.5, 21.7, 19.9, 25. , 33.4, 28.5, 21.4, 24.3, 27.5, 33.1,\n",
              "       16.2, 23.3, 48.3, 22.9, 22.8, 13.1, 12.7, 22.6, 15. , 15.3, 10.5,\n",
              "       24. , 18.5, 21.7, 19.5, 33.2, 23.2,  5. , 19.1, 12.7, 22.3, 10.2,\n",
              "       13.9, 16.3, 17. , 20.1, 29.9, 17.2, 37.3, 45.4, 17.8, 23.2, 29. ,\n",
              "       22. , 18. , 17.4, 34.6, 20.1, 25. , 15.6, 24.8, 28.2, 21.2, 21.4,\n",
              "       23.8, 31. , 26.2, 17.4, 37.9, 17.5, 20. ,  8.3, 23.9,  8.4, 13.8,\n",
              "        7.2, 11.7, 17.1, 21.6, 50. , 16.1, 20.4, 20.6, 21.4, 20.6, 36.5,\n",
              "        8.5, 24.8, 10.8, 21.9, 17.3, 18.9, 36.2, 14.9, 18.2, 33.3, 21.8,\n",
              "       19.7, 31.6, 24.8, 19.4, 22.8,  7.5, 44.8, 16.8, 18.7, 50. , 50. ,\n",
              "       19.5, 20.1, 50. , 17.2, 20.8, 19.3, 41.3, 20.4, 20.5, 13.8, 16.5,\n",
              "       23.9, 20.6, 31.5, 23.3, 16.8, 14. , 33.8, 36.1, 12.8, 18.3, 18.7,\n",
              "       19.1, 29. , 30.1, 50. , 50. , 22. , 11.9, 37.6, 50. , 22.7, 20.8,\n",
              "       23.5, 27.9, 50. , 19.3, 23.9, 22.6, 15.2, 21.7, 19.2, 43.8, 20.3,\n",
              "       33.2, 19.9, 22.5, 32.7, 22. , 17.1, 19. , 15. , 16.1, 25.1, 23.7,\n",
              "       28.7, 37.2, 22.6, 16.4, 25. , 29.8, 22.1, 17.4, 18.1, 30.3, 17.5,\n",
              "       24.7, 12.6, 26.5, 28.7, 13.3, 10.4, 24.4, 23. , 20. , 17.8,  7. ,\n",
              "       11.8, 24.4, 13.8, 19.4, 25.2, 19.4, 19.4, 29.1])"
            ]
          },
          "metadata": {
            "tags": []
          },
          "execution_count": 7
        }
      ]
    },
    {
      "cell_type": "markdown",
      "metadata": {
        "id": "WwUTOsge771I"
      },
      "source": [
        "### Feature 별로 정규화(Normalization) 필요\r\n",
        "- 각 특성(입력 data 행렬의 열)에 대해서 특성의 평균을 빼고 표준편차로 나눔 (중앙이 0에 맞춰지고 표준편차가 1이 됨)\r\n",
        "- Normalization에 사용한 값은 train data에서 계산한 값 (test data에서 계산한 어떤 값도 넣어서는 안됨)"
      ]
    },
    {
      "cell_type": "code",
      "metadata": {
        "id": "QuAPQHri4_FV"
      },
      "source": [
        "mean = train_data.mean(axis=0)\r\n",
        "train_data -= mean\r\n",
        "std = train_data.std(axis=0)\r\n",
        "train_data /= std\r\n",
        "\r\n",
        "test_data -= mean\r\n",
        "test_data /=std"
      ],
      "execution_count": 8,
      "outputs": []
    },
    {
      "cell_type": "markdown",
      "metadata": {
        "id": "aMmVlICL88CH"
      },
      "source": [
        "### 모델 구성\r\n",
        "- 64개의 unit을 가진 2개의 hidden layer로 네트웍 구성\r\n",
        "- 훈련 데이터의 갯수가 적을수록 overfitting이 더 쉽게 일어나므로 작은 모델을 사용하여 overfitting을 피하고자 함\r\n"
      ]
    },
    {
      "cell_type": "code",
      "metadata": {
        "id": "s9tRoS9j9NSE"
      },
      "source": [
        "from keras import models\r\n",
        "from keras import layers\r\n",
        "\r\n",
        "def build_model():\r\n",
        "    model = models.Sequential()\r\n",
        "    model.add(layers.Dense(64, activation='relu', input_shape=(train_data.shape[1],)))\r\n",
        "    model.add(layers.Dense(64, activation='relu'))\r\n",
        "    model.add(layers.Dense(1))\r\n",
        "    model.compile(optimizer='rmsprop', loss='mse', metrics=['mae'])\r\n",
        "    return model\r\n"
      ],
      "execution_count": 21,
      "outputs": []
    },
    {
      "cell_type": "markdown",
      "metadata": {
        "id": "xEhmsPadpesD"
      },
      "source": [
        "### [PPT] Loss function, K-fold cross-validation"
      ]
    },
    {
      "cell_type": "markdown",
      "metadata": {
        "id": "PAG8FmocpoPs"
      },
      "source": [
        "### K-fold cross-validation\r\n",
        "\r\n",
        "##### 100 epoch으로 훈련"
      ]
    },
    {
      "cell_type": "code",
      "metadata": {
        "colab": {
          "base_uri": "https://localhost:8080/"
        },
        "id": "C3ucboB1pm29",
        "outputId": "1222b02c-9bea-4ffc-9105-92756b705722"
      },
      "source": [
        "import numpy as np\r\n",
        "\r\n",
        "k=4\r\n",
        "num_val_samples = len(train_data) // k\r\n",
        "num_epochs = 100\r\n",
        "all_scores = []\r\n",
        "for i in range(k):\r\n",
        "    print('처리중인 폴드 #', i)\r\n",
        "    #검증 data 준비: K 번째 분할\r\n",
        "    val_data = train_data[i * num_val_samples: (i+1) * num_val_samples]\r\n",
        "    val_targets = train_targets[i * num_val_samples: (i+1) * num_val_samples]\r\n",
        "    partial_train_data = np.concatenate ([train_data[:i * num_val_samples], train_data[(i + 1) * num_val_samples:]], axis=0)\r\n",
        "    partial_train_targets = np.concatenate ([train_targets[:i * num_val_samples], train_targets[(i + 1) * num_val_samples:]], axis=0)\r\n",
        "\r\n",
        "    model = build_model()\r\n",
        "\r\n",
        "    model.fit(partial_train_data, partial_train_targets, epochs = num_epochs, batch_size=1, verbose=1)\r\n",
        "\r\n",
        "    val_mse, val_mae = model.evaluate(val_data, val_targets, verbose=1)\r\n",
        "    all_scores.append(val_mae)"
      ],
      "execution_count": 25,
      "outputs": [
        {
          "output_type": "stream",
          "text": [
            "처리중인 폴드 # 0\n",
            "처리중인 폴드 # 1\n",
            "처리중인 폴드 # 2\n",
            "처리중인 폴드 # 3\n"
          ],
          "name": "stdout"
        }
      ]
    },
    {
      "cell_type": "code",
      "metadata": {
        "colab": {
          "base_uri": "https://localhost:8080/"
        },
        "id": "fu8HXdMZyDaW",
        "outputId": "d1ecc8d9-a1cd-4ab7-bec6-07a321f2a321"
      },
      "source": [
        "all_scores"
      ],
      "execution_count": 26,
      "outputs": [
        {
          "output_type": "execute_result",
          "data": {
            "text/plain": [
              "[2.003192186355591, 2.7374298572540283, 2.5417087078094482, 2.5280556678771973]"
            ]
          },
          "metadata": {
            "tags": []
          },
          "execution_count": 26
        }
      ]
    },
    {
      "cell_type": "code",
      "metadata": {
        "colab": {
          "base_uri": "https://localhost:8080/"
        },
        "id": "0TH0m8c9yFfG",
        "outputId": "8894e65d-eb3a-4e6d-d317-e799a367397b"
      },
      "source": [
        "np.mean(all_scores)"
      ],
      "execution_count": 27,
      "outputs": [
        {
          "output_type": "execute_result",
          "data": {
            "text/plain": [
              "2.452596604824066"
            ]
          },
          "metadata": {
            "tags": []
          },
          "execution_count": 27
        }
      ]
    },
    {
      "cell_type": "markdown",
      "metadata": {
        "id": "Wdeh0veHyoPE"
      },
      "source": [
        "#### 500 epoch으로 훈련\r\n",
        "- 훈련하면서 mae 점수 평균을 계산하고 그래프로 나타냄"
      ]
    },
    {
      "cell_type": "code",
      "metadata": {
        "id": "G5eq6jIt2nEy"
      },
      "source": [
        "from keras import backend as K\r\n",
        "# 메모리 해제\r\n",
        "K.clear_session()"
      ],
      "execution_count": 33,
      "outputs": []
    },
    {
      "cell_type": "code",
      "metadata": {
        "colab": {
          "base_uri": "https://localhost:8080/"
        },
        "id": "oGhguzvGzD7o",
        "outputId": "e0f56fde-c777-40a3-8167-e1b8ed3d5db7"
      },
      "source": [
        "num_epochs = 500\r\n",
        "all_mae_histories = []\r\n",
        "for i in range(k):\r\n",
        "    print('처리중인 폴드#', i)\r\n",
        "    val_data = train_data[i * num_val_samples: (i + 1) * num_val_samples] #검증 data 준비, K 번째 분할\r\n",
        "    val_targets = train_targets[i * num_val_samples: (i +1) * num_val_samples]\r\n",
        "    partial_train_data = np.concatenate([train_data[:i * num_val_samples], train_data[(i+1) * num_val_samples:]], axis=0)\r\n",
        "    partial_train_targets = np.concatenate([train_targets[:i * num_val_samples], train_targets[(i+1) * num_val_samples:]], axis=0)\r\n",
        "\r\n",
        "    model = build_model()\r\n",
        "    history=model.fit(partial_train_data, partial_train_targets, validation_data=(val_data, val_targets), epochs=num_epochs, batch_size=1, verbose=0)\r\n",
        "    mae_history = history.history['val_mae'] #val_mean_absolute_error에서  KeyError 발생 --> model compile 할때 표현에 맞춰서 val_mae로 변경\r\n",
        "    all_mae_histories.append(mae_history)\r\n"
      ],
      "execution_count": 41,
      "outputs": [
        {
          "output_type": "stream",
          "text": [
            "처리중인 폴드# 0\n",
            "처리중인 폴드# 1\n",
            "처리중인 폴드# 2\n",
            "처리중인 폴드# 3\n"
          ],
          "name": "stdout"
        }
      ]
    },
    {
      "cell_type": "code",
      "metadata": {
        "colab": {
          "base_uri": "https://localhost:8080/"
        },
        "id": "Qh-c05SJ1MUb",
        "outputId": "657ff962-6523-48e1-9270-936a1801a35b"
      },
      "source": [
        "all_scores"
      ],
      "execution_count": 42,
      "outputs": [
        {
          "output_type": "execute_result",
          "data": {
            "text/plain": [
              "[2.003192186355591, 2.7374298572540283, 2.5417087078094482, 2.5280556678771973]"
            ]
          },
          "metadata": {
            "tags": []
          },
          "execution_count": 42
        }
      ]
    },
    {
      "cell_type": "code",
      "metadata": {
        "colab": {
          "base_uri": "https://localhost:8080/"
        },
        "id": "Ws-j8YUA1OcV",
        "outputId": "af137f10-82e6-4771-96ec-b7bd7c38d999"
      },
      "source": [
        "np.mean(all_scores)"
      ],
      "execution_count": 43,
      "outputs": [
        {
          "output_type": "execute_result",
          "data": {
            "text/plain": [
              "2.452596604824066"
            ]
          },
          "metadata": {
            "tags": []
          },
          "execution_count": 43
        }
      ]
    },
    {
      "cell_type": "markdown",
      "metadata": {
        "id": "PHTtJ8tz1am4"
      },
      "source": [
        "###모든 폴드에 대해 epoch의 mae 점수 평균을 계산"
      ]
    },
    {
      "cell_type": "code",
      "metadata": {
        "id": "LyUbln1R1gU7"
      },
      "source": [
        "average_mae_history=[np.mean([X[i] for X in all_mae_histories]) for i in range(num_epochs)]"
      ],
      "execution_count": 44,
      "outputs": []
    },
    {
      "cell_type": "markdown",
      "metadata": {
        "id": "Nh9QVXfq1wGH"
      },
      "source": [
        "### 그래프로 나타냄"
      ]
    },
    {
      "cell_type": "code",
      "metadata": {
        "colab": {
          "base_uri": "https://localhost:8080/",
          "height": 279
        },
        "id": "8qtYpLiM10YX",
        "outputId": "c1059db1-23c4-4b2e-f98b-932395a1bcc0"
      },
      "source": [
        "import matplotlib.pyplot as plt\r\n",
        "\r\n",
        "plt.plot(range(1,len(average_mae_history) +1), average_mae_history)\r\n",
        "plt.xlabel('Epochs')\r\n",
        "plt.ylabel('Validation MAE')\r\n",
        "plt.show()"
      ],
      "execution_count": 45,
      "outputs": [
        {
          "output_type": "display_data",
          "data": {
            "image/png": "[encoded data removed]",
            "text/plain": [
              "<Figure size 432x288 with 1 Axes>"
            ]
          },
          "metadata": {
            "tags": [],
            "needs_background": "light"
          }
        }
      ]
    },
    {
      "cell_type": "markdown",
      "metadata": {
        "id": "VLeLxPm-_Ftl"
      },
      "source": [
        "###그래프의 범위가 크고 변동이 심하기 때문에 보기 쉽게 바꿈\r\n",
        "- 곡선의 다른 부분과 스케일이 많이 다른 첫 10개의 data point를 제외\r\n",
        "- 부드러운 곡선을 얻기 위해 각 포인트를 이전 포인트의 지수 이동평균(exponential moving average)으로 대체\r\n",
        "- 지수이동 평균은 시계열 데이터를 부드럽게 만드는 기법 중 하나. 코드6번째 줄에서 이전에 계산된 이동 평균에 factor를 곱하고 현재 포인트에 (1-factor)를 곱해 합산한 것"
      ]
    },
    {
      "cell_type": "code",
      "metadata": {
        "colab": {
          "base_uri": "https://localhost:8080/",
          "height": 279
        },
        "id": "1NjzJWb4_0K_",
        "outputId": "e5d72015-5eb9-4908-e5f6-cf1deb0730f7"
      },
      "source": [
        "def smooth_curve(points, factor=0.9):\r\n",
        "    smoothed_points = []\r\n",
        "    for point in points:\r\n",
        "          if smoothed_points:\r\n",
        "                previous = smoothed_points[-1]\r\n",
        "                smoothed_points.append(previous * factor + point * (1-factor))\r\n",
        "          else:\r\n",
        "                smoothed_points.append(point)\r\n",
        "    return smoothed_points\r\n",
        "\r\n",
        "smooth_mae_history = smooth_curve(average_mae_history[10:])\r\n",
        "\r\n",
        "plt.plot(range(1, len(smooth_mae_history)+1), smooth_mae_history)\r\n",
        "plt.xlabel('Epochs')\r\n",
        "plt.ylabel('Validation MAE')\r\n",
        "plt.show()\r\n"
      ],
      "execution_count": 46,
      "outputs": [
        {
          "output_type": "display_data",
          "data": {
            "image/png": "[encoded data removed]",
            "text/plain": [
              "<Figure size 432x288 with 1 Axes>"
            ]
          },
          "metadata": {
            "tags": [],
            "needs_background": "light"
          }
        }
      ]
    },
    {
      "cell_type": "markdown",
      "metadata": {
        "id": "nbqvN2CeBUco"
      },
      "source": [
        "- 80번째 epoch 이후 감소하지 않음. 이 지점 이후로는 overfitting 시작\r\n",
        "- 여기까지는 매개변수 튜닝을 위한 과정. 이후 과정에서는 모든 훈련 데이터를 사용하고 최상의 매개변수를 적용하여 모델을 훈련 시키고 test data로 성능을 확인 "
      ]
    },
    {
      "cell_type": "code",
      "metadata": {
        "colab": {
          "base_uri": "https://localhost:8080/"
        },
        "id": "bU05RwO1BUFq",
        "outputId": "ed0890bd-1803-46ad-e673-0e05ecc1331a"
      },
      "source": [
        "model = build_model()\r\n",
        "model.fit(train_data, train_targets, epochs=80, batch_size=16, verbose=0)\r\n",
        "test_mse_score, test_mae_score = model.evaluate(test_data, test_targets)"
      ],
      "execution_count": 47,
      "outputs": [
        {
          "output_type": "stream",
          "text": [
            "4/4 [==============================] - 0s 4ms/step - loss: 17.7059 - mae: 2.6836\n"
          ],
          "name": "stdout"
        }
      ]
    },
    {
      "cell_type": "code",
      "metadata": {
        "colab": {
          "base_uri": "https://localhost:8080/"
        },
        "id": "sNfuYzc_CAiK",
        "outputId": "8dea0e16-5de4-4187-fb76-8b97c808efbc"
      },
      "source": [
        "test_mae_score"
      ],
      "execution_count": 48,
      "outputs": [
        {
          "output_type": "execute_result",
          "data": {
            "text/plain": [
              "2.6835782527923584"
            ]
          },
          "metadata": {
            "tags": []
          },
          "execution_count": 48
        }
      ]
    }
  ]
}